{
 "cells": [
  {
   "cell_type": "code",
   "execution_count": null,
   "metadata": {},
   "outputs": [],
   "source": [
    "import matplotlib.pyplot as plt\n",
    "import numpy as np\n",
    "import tsplib95 # allows easy reading of tsplib files\n",
    "from math import sqrt\n"
   ]
  },
  {
   "attachments": {},
   "cell_type": "markdown",
   "metadata": {},
   "source": [
    "We expect the results file to have:\n",
    "```\n",
    "TSP_FILENAME as a string\n",
    "SOLUTION_ARRAY as a sequence of indeces\n",
    "COST as an int\n",
    "```\n",
    "\n",
    "if any new values need to be added, we'll change the specs"
   ]
  },
  {
   "cell_type": "code",
   "execution_count": null,
   "metadata": {},
   "outputs": [],
   "source": [
    "filename = \"../results/solution_mileage.txt\"\n",
    "x = loadfile(filename)\n",
    "sanity_check(*x)\n",
    "arrow_plot(*x)"
   ]
  },
  {
   "cell_type": "code",
   "execution_count": null,
   "metadata": {},
   "outputs": [],
   "source": [
    "filename = \"../results/solution.txt\"\n",
    "x = loadfile(filename)\n",
    "sanity_check(*x)\n",
    "arrow_plot(*x)\n"
   ]
  },
  {
   "cell_type": "code",
   "execution_count": null,
   "metadata": {},
   "outputs": [],
   "source": [
    "# read results file\n",
    "def loadfile(filename):\n",
    "    with open(filename) as results:\n",
    "        text = results.readlines()\n",
    "    tsp_file = text[0].strip()\n",
    "    solution = list(map(int, str.split(text[1].strip(), \" \"))) # parse string as list of int\n",
    "    cost = float(text[2].strip())\n",
    "    print(\"TSP FILE: \", tsp_file)\n",
    "    print(\"SOLUTION SEQUENCE: \", solution)\n",
    "    print(\"COST: \", cost)\n",
    "    # convert from worpsace folder to local folder\n",
    "    problem = tsplib95.load(\".\"+tsp_file)\n",
    "\n",
    "    print(problem.name)\n",
    "    print(problem.comment)\n",
    "    print(problem.type)\n",
    "    print(problem.fields_by_keyword)\n",
    "    coordinates = np.array(list(problem.node_coords.values()))\n",
    "    return (problem, coordinates, solution)"
   ]
  },
  {
   "cell_type": "code",
   "execution_count": null,
   "metadata": {},
   "outputs": [],
   "source": [
    "def ugly_color_plot(problem, coordinates, solution):\n",
    "    fig, ax = plt.subplots(figsize=(10, 10))\n",
    "\n",
    "    colormap = plt.cm.jet # colormap to define color cycle \n",
    "    colors = [colormap(i) for i in np.linspace(0, 1, problem.dimension)]\n",
    "\n",
    "    for index in range(problem.dimension):\n",
    "        x, y = coordinates[index]\n",
    "        ax.scatter(x, y, c=colors[index]) # draw nodes\n",
    "\n",
    "    for i in range(problem.dimension):\n",
    "        sol_index = solution[i]\n",
    "        x, y = coordinates[sol_index]\n",
    "        next_index = solution[(i + 1) % problem.dimension]\n",
    "        next_x, next_y = coordinates[next_index]\n",
    "        ax.plot([x, next_x], [y, next_y], c=colors[i])\n",
    "\n",
    "\n",
    "\n",
    "\n",
    "    ax.set_title(problem.name)\n",
    "\n",
    "    fig.show()"
   ]
  },
  {
   "cell_type": "code",
   "execution_count": null,
   "metadata": {},
   "outputs": [],
   "source": [
    "def arrow_plot(problem, coordinates, solution):\n",
    "    fig, ax = plt.subplots(2, sharex=True, sharey=True,\n",
    "                        figsize=(10, 10))         # Prepare 2 plots\n",
    "    ax[0].set_title('Raw nodes')\n",
    "    ax[1].set_title('Optimized tour')\n",
    "    ax[0].scatter(coordinates[:, 0], coordinates[:, 1])             # plot A\n",
    "    ax[1].scatter(coordinates[:, 0], coordinates[:, 1])             # plot B\n",
    "    start_node = solution[0]\n",
    "    distance = 0.\n",
    "    for i in range(problem.dimension + 1):\n",
    "        start_pos = coordinates[start_node]\n",
    "        # needed because of MIP-approach used for TSP\n",
    "        next_node = solution[i % problem.dimension]\n",
    "        end_pos = coordinates[next_node]\n",
    "        #ax[1].annotate(text = str(start_node), xy = start_pos)\n",
    "        ax[0].annotate(text=str(start_node), xy=start_pos)\n",
    "        ax[1].text(*(start_pos), i, color = \"red\")\n",
    "        ax[1].annotate(\"\",\n",
    "                    xy=end_pos, xycoords='data',\n",
    "                    xytext=start_pos, textcoords='data',\n",
    "                    arrowprops=dict(arrowstyle=\"->\",\n",
    "                                    connectionstyle=\"arc3\"))\n",
    "        distance += np.linalg.norm(end_pos - start_pos)\n",
    "        start_node = next_node\n",
    "\n",
    "    textstr = \"N nodes: %d\\nTotal length: %.3f\" % (problem.dimension, distance)\n",
    "    props = dict(boxstyle='round', facecolor='wheat', alpha=0.5)\n",
    "    #ax[1].text(0.05, 0.95, textstr, transform=ax[1].transAxes, fontsize=14,  # Textbox verticalalignment='top', bbox=props)\n",
    "\n",
    "    plt.tight_layout()\n",
    "    plt.show()\n"
   ]
  },
  {
   "cell_type": "code",
   "execution_count": null,
   "metadata": {},
   "outputs": [],
   "source": [
    "def sanity_check(problem, coordinates, solution):\n",
    "    start_node = solution[0] # first node \n",
    "    cost = 0\n",
    "    for i in range(problem.dimension + 1):\n",
    "        pos1 = coordinates[start_node]\n",
    "        # needed because of MIP-approach used for TSP\n",
    "        next_node = solution[i % problem.dimension]\n",
    "        pos2 = coordinates[next_node]\n",
    "        dist = sqrt((pos1[0] - pos2[0])**2 + (pos1[1] - pos2[1])**2)\n",
    "        cost += dist\n",
    "    print(cost)"
   ]
  }
 ],
 "metadata": {
  "kernelspec": {
   "display_name": "plot_env",
   "language": "python",
   "name": "plot_env"
  },
  "language_info": {
   "codemirror_mode": {
    "name": "ipython",
    "version": 3
   },
   "file_extension": ".py",
   "mimetype": "text/x-python",
   "name": "python",
   "nbconvert_exporter": "python",
   "pygments_lexer": "ipython3",
   "version": "3.10.6"
  },
  "orig_nbformat": 4
 },
 "nbformat": 4,
 "nbformat_minor": 2
}
